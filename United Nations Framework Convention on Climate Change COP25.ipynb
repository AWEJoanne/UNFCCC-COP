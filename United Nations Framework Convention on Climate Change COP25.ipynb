{
 "cells": [
  {
   "cell_type": "code",
   "execution_count": 1,
   "id": "b7f9bba1",
   "metadata": {},
   "outputs": [],
   "source": [
    "# import libraries to scrape websites\n",
    "import pandas as pd\n",
    "import selenium\n",
    "from selenium import webdriver\n",
    "from selenium.webdriver.common.by import By\n",
    "from time import sleep\n",
    "from selenium.webdriver.support.ui import WebDriverWait\n",
    "from selenium.webdriver.support import expected_conditions as EC\n",
    "import numpy as np"
   ]
  },
  {
   "cell_type": "code",
   "execution_count": 2,
   "id": "52660952",
   "metadata": {},
   "outputs": [],
   "source": [
    "# read the website\n",
    "driver = webdriver.Chrome()\n",
    "website = \"https://unfccc.int/process-and-meetings/conferences/past-conferences/un-climate-change-conference-december-2019/speeches-and-statements-at-cop-25\"\n",
    "driver.get(website)"
   ]
  },
  {
   "cell_type": "code",
   "execution_count": 3,
   "id": "ab3e4dcb",
   "metadata": {},
   "outputs": [],
   "source": [
    "# scrape links for Statements given at official opening ceremony of the conference\n",
    "links = driver.find_elements(By.XPATH, '//td[@style=\"height:181px; width:1128px\"]/a | //td[@style=\"height:173px; width:1128px\"]/p/a | //td[@style=\"height:194px; width:1128px\"]/p/a')\n",
    "links_list = []\n",
    "for link in links:\n",
    "    links_list.append(link.get_attribute('href'))"
   ]
  },
  {
   "cell_type": "code",
   "execution_count": 4,
   "id": "6c87487c",
   "metadata": {},
   "outputs": [],
   "source": [
    "# scrape list of speeches\n",
    "speeches = driver.find_elements(By.XPATH, '//td[@style=\"height:181px; width:1128px\"]/a | //td[@style=\"height:173px; width:1128px\"]/p/a | //td[@style=\"height:194px; width:1128px\"]/p/a')\n",
    "speeches_list = []\n",
    "for speech in range(len(speeches)):\n",
    "    speeches_list.append(speeches[speech].text)"
   ]
  },
  {
   "cell_type": "code",
   "execution_count": 5,
   "id": "aa1eff6c",
   "metadata": {},
   "outputs": [],
   "source": [
    "# store data in to a dataframe\n",
    "data = list(zip(speeches_list, links_list))\n",
    "columns = ['Speech', 'Link']\n",
    "df1 = pd.DataFrame(data, columns=columns)\n",
    "#df['Category'] = 'Statements given at official opening ceremony of the conference'"
   ]
  },
  {
   "cell_type": "code",
   "execution_count": 6,
   "id": "3487a7f2",
   "metadata": {},
   "outputs": [],
   "source": [
    "# scrape links for Statements given at the opening of the high-level segment\n",
    "links = driver.find_elements(By.XPATH, '//div[@class=\"field field--name-field-text-of-accordion-entry field--type-text-long field--label-hidden field--item\"]/p/a')\n",
    "links_list = []\n",
    "for link in links:\n",
    "    links_list.append(link.get_attribute('href'))"
   ]
  },
  {
   "cell_type": "code",
   "execution_count": 7,
   "id": "93e7e218",
   "metadata": {},
   "outputs": [],
   "source": [
    "# scrape list of speeches\n",
    "speeches = driver.find_elements(By.XPATH, '//div[@class=\"field field--name-field-text-of-accordion-entry field--type-text-long field--label-hidden field--item\"]/p/a')\n",
    "speeches_list = []\n",
    "for speech in range(len(speeches)):\n",
    "    speeches_list.append(speeches[speech].text)"
   ]
  },
  {
   "cell_type": "code",
   "execution_count": 8,
   "id": "7488e23d",
   "metadata": {},
   "outputs": [],
   "source": [
    "# store data in to a dataframe\n",
    "data = list(zip(speeches_list, links_list))\n",
    "columns = ['Speech', 'Link']\n",
    "df2 = pd.DataFrame(data, columns=columns)\n",
    "df2 = df2.drop(index=range(5,9))\n",
    "#df2['Category'] = 'Statements given at the opening of the high-level segment'"
   ]
  },
  {
   "cell_type": "code",
   "execution_count": 9,
   "id": "9cdd72ed",
   "metadata": {},
   "outputs": [],
   "source": [
    "# scrape links for Statements from Heads of State and Government, ministers and heads of delegations at high-level segment\n",
    "links = driver.find_elements(By.XPATH, '//td[@style=\"width:159px\"]/a | //td[@style=\"width:161px\"]/a | //td[@style=\"width:180px\"]/a')\n",
    "links_list = []\n",
    "for link in links:\n",
    "    links_list.append(link.get_attribute('href'))"
   ]
  },
  {
   "cell_type": "code",
   "execution_count": 10,
   "id": "a899db51",
   "metadata": {},
   "outputs": [],
   "source": [
    "# scrape list of speeches\n",
    "speeches = driver.find_elements(By.XPATH, '//td[@style=\"width:159px\"]/a | //td[@style=\"width:161px\"]/a | //td[@style=\"width:180px\"]/a')\n",
    "speeches_list = []\n",
    "for speech in range(len(speeches)):\n",
    "    speeches_list.append(speeches[speech].text)"
   ]
  },
  {
   "cell_type": "code",
   "execution_count": 11,
   "id": "5b7f37e8",
   "metadata": {},
   "outputs": [],
   "source": [
    "data = list(zip(speeches_list, links_list))\n",
    "columns = ['Speech', 'Link']\n",
    "df3 = pd.DataFrame(data, columns=columns)"
   ]
  },
  {
   "cell_type": "code",
   "execution_count": 12,
   "id": "1913e382",
   "metadata": {},
   "outputs": [],
   "source": [
    "df = pd.concat([df1, df2, df3], axis=0)"
   ]
  },
  {
   "cell_type": "code",
   "execution_count": 13,
   "id": "4e808856",
   "metadata": {},
   "outputs": [
    {
     "data": {
      "text/html": [
       "<div>\n",
       "<style scoped>\n",
       "    .dataframe tbody tr th:only-of-type {\n",
       "        vertical-align: middle;\n",
       "    }\n",
       "\n",
       "    .dataframe tbody tr th {\n",
       "        vertical-align: top;\n",
       "    }\n",
       "\n",
       "    .dataframe thead th {\n",
       "        text-align: right;\n",
       "    }\n",
       "</style>\n",
       "<table border=\"1\" class=\"dataframe\">\n",
       "  <thead>\n",
       "    <tr style=\"text-align: right;\">\n",
       "      <th></th>\n",
       "      <th>Speech</th>\n",
       "      <th>Link</th>\n",
       "    </tr>\n",
       "  </thead>\n",
       "  <tbody>\n",
       "    <tr>\n",
       "      <th>0</th>\n",
       "      <td>Mr. Hoesung Lee, Chair of the Intergovernmenta...</td>\n",
       "      <td>https://unfccc.int/sites/default/files/resourc...</td>\n",
       "    </tr>\n",
       "    <tr>\n",
       "      <th>1</th>\n",
       "      <td>H.E. Mr. Sebastián Piñera, President of the Re...</td>\n",
       "      <td>https://youtu.be/3fQHpXkI-vc?t=998</td>\n",
       "    </tr>\n",
       "    <tr>\n",
       "      <th>2</th>\n",
       "      <td>H.E. Mr. António Guterres, Secretary General o...</td>\n",
       "      <td>https://unfccc.int/sites/default/files/resourc...</td>\n",
       "    </tr>\n",
       "    <tr>\n",
       "      <th>3</th>\n",
       "      <td>H.E. Mr. Pedro Sánchez, President of the Gover...</td>\n",
       "      <td>https://unfccc.int/sites/default/files/resourc...</td>\n",
       "    </tr>\n",
       "    <tr>\n",
       "      <th>4</th>\n",
       "      <td>Mr. Michał Kurtyka, President of COP 24/CMP 14...</td>\n",
       "      <td>https://unfccc.int/sites/default/files/resourc...</td>\n",
       "    </tr>\n",
       "    <tr>\n",
       "      <th>...</th>\n",
       "      <td>...</td>\n",
       "      <td>...</td>\n",
       "    </tr>\n",
       "    <tr>\n",
       "      <th>103</th>\n",
       "      <td>Trade Unions Non-Governmental Organizations</td>\n",
       "      <td>https://unfccc.int/documents/204778</td>\n",
       "    </tr>\n",
       "    <tr>\n",
       "      <th>104</th>\n",
       "      <td>Environmental Non-Governmental Organizations, ...</td>\n",
       "      <td>https://unfccc.int/documents/204789</td>\n",
       "    </tr>\n",
       "    <tr>\n",
       "      <th>105</th>\n",
       "      <td>Faith-based Non-Governmental Organizations</td>\n",
       "      <td>https://unfccc.int/documents/204779</td>\n",
       "    </tr>\n",
       "    <tr>\n",
       "      <th>106</th>\n",
       "      <td>Research and Independent Non-Governmental Orga...</td>\n",
       "      <td>https://unfccc.int/documents/204790</td>\n",
       "    </tr>\n",
       "    <tr>\n",
       "      <th>107</th>\n",
       "      <td>Farmers Non-Governmental Organizations</td>\n",
       "      <td>https://unfccc.int/documents/204777</td>\n",
       "    </tr>\n",
       "  </tbody>\n",
       "</table>\n",
       "<p>118 rows × 2 columns</p>\n",
       "</div>"
      ],
      "text/plain": [
       "                                                Speech  \\\n",
       "0    Mr. Hoesung Lee, Chair of the Intergovernmenta...   \n",
       "1    H.E. Mr. Sebastián Piñera, President of the Re...   \n",
       "2    H.E. Mr. António Guterres, Secretary General o...   \n",
       "3    H.E. Mr. Pedro Sánchez, President of the Gover...   \n",
       "4    Mr. Michał Kurtyka, President of COP 24/CMP 14...   \n",
       "..                                                 ...   \n",
       "103        Trade Unions Non-Governmental Organizations   \n",
       "104  Environmental Non-Governmental Organizations, ...   \n",
       "105         Faith-based Non-Governmental Organizations   \n",
       "106  Research and Independent Non-Governmental Orga...   \n",
       "107             Farmers Non-Governmental Organizations   \n",
       "\n",
       "                                                  Link  \n",
       "0    https://unfccc.int/sites/default/files/resourc...  \n",
       "1                   https://youtu.be/3fQHpXkI-vc?t=998  \n",
       "2    https://unfccc.int/sites/default/files/resourc...  \n",
       "3    https://unfccc.int/sites/default/files/resourc...  \n",
       "4    https://unfccc.int/sites/default/files/resourc...  \n",
       "..                                                 ...  \n",
       "103                https://unfccc.int/documents/204778  \n",
       "104                https://unfccc.int/documents/204789  \n",
       "105                https://unfccc.int/documents/204779  \n",
       "106                https://unfccc.int/documents/204790  \n",
       "107                https://unfccc.int/documents/204777  \n",
       "\n",
       "[118 rows x 2 columns]"
      ]
     },
     "execution_count": 13,
     "metadata": {},
     "output_type": "execute_result"
    }
   ],
   "source": [
    "df"
   ]
  },
  {
   "cell_type": "code",
   "execution_count": null,
   "id": "6b09f038",
   "metadata": {},
   "outputs": [],
   "source": [
    "# reset index first\n",
    "# df.reset_index(drop=True)\n",
    "df.to_excel('UNFCC COP 25 Links.xlsx')"
   ]
  },
  {
   "cell_type": "code",
   "execution_count": 34,
   "id": "57a1b0f3",
   "metadata": {},
   "outputs": [],
   "source": [
    "df = pd.read_excel('UNFCC COP 25 Links.xlsx', index_col=0)"
   ]
  },
  {
   "cell_type": "code",
   "execution_count": 37,
   "id": "0ec66392",
   "metadata": {},
   "outputs": [],
   "source": [
    "# drop the youtube link\n",
    "df = df.drop(1).reset_index(drop=True)"
   ]
  },
  {
   "cell_type": "code",
   "execution_count": 39,
   "id": "a4cf8e78",
   "metadata": {},
   "outputs": [],
   "source": [
    "df['Content'] = ''"
   ]
  },
  {
   "cell_type": "code",
   "execution_count": 44,
   "id": "494dc06b",
   "metadata": {},
   "outputs": [],
   "source": [
    "# retain links that direct to unfcc\n",
    "unfccdf = df.drop(index=range(0,9))\n",
    "\n",
    "# drop cuba and IGAD due to some issues\n",
    "unfccdf = unfccdf.drop([69, 110], axis=0)"
   ]
  },
  {
   "cell_type": "code",
   "execution_count": 60,
   "id": "4ebeea38",
   "metadata": {},
   "outputs": [],
   "source": [
    "# download the pdfs\n",
    "for link in unfccdf['Link']:\n",
    "    driver = webdriver.Chrome()\n",
    "    driver.get(link)\n",
    "    \n",
    "    download = WebDriverWait(driver, 0).until(EC.element_to_be_clickable((By.XPATH, '//div[@class=\"chosen-container chosen-container-single form-select form-control\"]/a')))\n",
    "    download.click()\n",
    "    \n",
    "    pdfdownload = WebDriverWait(driver, 0).until(EC.element_to_be_clickable((By.XPATH, '//li[@class=\"active-result highlighted\"]')))\n",
    "    pdfdownload.click()\n",
    "    \n",
    "    sleep(2)"
   ]
  },
  {
   "cell_type": "code",
   "execution_count": 63,
   "id": "01f206fa",
   "metadata": {},
   "outputs": [],
   "source": [
    "# import libraries to convert pdfs to text\n",
    "import io\n",
    "from io import StringIO\n",
    "from pdfminer.pdfinterp import PDFResourceManager, PDFPageInterpreter\n",
    "from pdfminer.converter import TextConverter\n",
    "from pdfminer.layout import LAParams\n",
    "from pdfminer.pdfpage import PDFPage\n",
    "import os\n",
    "import sys, getopt"
   ]
  },
  {
   "cell_type": "code",
   "execution_count": 64,
   "id": "315dec4c",
   "metadata": {},
   "outputs": [],
   "source": [
    "#converts pdf, returns its text content as a string\n",
    "def convert(fname, pages=None):\n",
    "    if not pages:\n",
    "        pagenums = set()\n",
    "    else:\n",
    "        pagenums = set(pages)\n",
    "\n",
    "    output = io.StringIO()\n",
    "    manager = PDFResourceManager()\n",
    "    converter = TextConverter(manager, output, laparams=LAParams())\n",
    "    interpreter = PDFPageInterpreter(manager, converter)\n",
    "\n",
    "    infile = open(fname, 'rb')\n",
    "    for page in PDFPage.get_pages(infile, pagenums):\n",
    "        interpreter.process_page(page)\n",
    "    infile.close()\n",
    "    converter.close()\n",
    "    text = output.getvalue()\n",
    "    output.close\n",
    "    return text \n",
    "\n",
    "#converts all pdfs in directory pdfDir, saves all resulting txt files to txtdir\n",
    "def convertMultiple(pdfDir, txtDir):\n",
    "    if pdfDir == \"\": pdfDir = os.getcwd() + \"\\\\\" #if no pdfDir passed in \n",
    "    for pdf in os.listdir(pdfDir): #iterate through pdfs in pdf directory\n",
    "        fileExtension = pdf.split(\".\")[-1]\n",
    "        if fileExtension == \"pdf\":\n",
    "            pdfFilename = pdfDir + pdf \n",
    "            text = convert(pdfFilename) #get string of text content of pdf\n",
    "            textFilename = txtDir + pdf + \".txt\"\n",
    "            textFile = open(textFilename, \"w\", encoding=\"utf-8\") #make text file\n",
    "            textFile.write(text) #write text to text file"
   ]
  },
  {
   "cell_type": "code",
   "execution_count": 65,
   "id": "a58bc7e4",
   "metadata": {},
   "outputs": [],
   "source": [
    "pdfDir = \"C:/Users/Documents/UNFCC COP25 PDF/\"\n",
    "txtDir = \"C:/Users/Documents/UNFCC COP25 Text/\"\n",
    "convertMultiple(pdfDir, txtDir)"
   ]
  },
  {
   "cell_type": "code",
   "execution_count": null,
   "id": "ad2fe3e0",
   "metadata": {},
   "outputs": [],
   "source": []
  }
 ],
 "metadata": {
  "kernelspec": {
   "display_name": "Python 3 (ipykernel)",
   "language": "python",
   "name": "python3"
  },
  "language_info": {
   "codemirror_mode": {
    "name": "ipython",
    "version": 3
   },
   "file_extension": ".py",
   "mimetype": "text/x-python",
   "name": "python",
   "nbconvert_exporter": "python",
   "pygments_lexer": "ipython3",
   "version": "3.9.7"
  }
 },
 "nbformat": 4,
 "nbformat_minor": 5
}
