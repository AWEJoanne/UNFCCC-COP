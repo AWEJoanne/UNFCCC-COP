{
 "cells": [
  {
   "cell_type": "code",
   "execution_count": 1,
   "id": "d2af287e",
   "metadata": {},
   "outputs": [],
   "source": [
    "# import libraries to scrape websites\n",
    "import pandas as pd\n",
    "import selenium\n",
    "from selenium import webdriver\n",
    "from selenium.webdriver.common.by import By\n",
    "from time import sleep\n",
    "from selenium.webdriver.support.ui import WebDriverWait\n",
    "from selenium.webdriver.support import expected_conditions as EC\n",
    "import numpy as np"
   ]
  },
  {
   "cell_type": "code",
   "execution_count": 2,
   "id": "5077b55a",
   "metadata": {},
   "outputs": [],
   "source": [
    "# read the website\n",
    "driver = webdriver.Chrome()\n",
    "website = \"https://unfccc.int/process/conferences/pastconferences/durban-climate-change-conference-november-2011/statements-and-resources/Statements\"\n",
    "driver.get(website)"
   ]
  },
  {
   "cell_type": "code",
   "execution_count": 3,
   "id": "c6cb1a00",
   "metadata": {},
   "outputs": [],
   "source": [
    "# scrape list of speeches\n",
    "speeches = driver.find_elements(By.XPATH, '//td[@valign=\"top\"]/p/strong')\n",
    "speeches_list = []\n",
    "for speech in range(len(speeches)):\n",
    "    speeches_list.append(speeches[speech].text)"
   ]
  },
  {
   "cell_type": "code",
   "execution_count": 8,
   "id": "c81104ba",
   "metadata": {},
   "outputs": [],
   "source": [
    "del speeches_list[0]"
   ]
  },
  {
   "cell_type": "code",
   "execution_count": 5,
   "id": "cecbe512",
   "metadata": {},
   "outputs": [],
   "source": [
    "# scrape links \n",
    "links = driver.find_elements(By.XPATH, '//td[@valign=\"top\"]/p/a')\n",
    "links_list = []\n",
    "for link in links:\n",
    "    links_list.append(link.get_attribute('href'))"
   ]
  },
  {
   "cell_type": "code",
   "execution_count": 11,
   "id": "1074e04d",
   "metadata": {},
   "outputs": [],
   "source": [
    "# store data in to a dataframe\n",
    "data = list(zip(speeches_list, links_list))\n",
    "columns = ['Speech', 'Link']\n",
    "df1 = pd.DataFrame(data, columns=columns)"
   ]
  },
  {
   "cell_type": "code",
   "execution_count": 12,
   "id": "cccd9f9c",
   "metadata": {},
   "outputs": [],
   "source": [
    "# scrape High Level Segment with statements by Heads of States and Governments\n",
    "# scrape list of speeches\n",
    "speeches = driver.find_elements(By.XPATH, '//td/p/a | //td[@width=\"33%\"]/p/a')\n",
    "speeches_list = []\n",
    "for speech in range(len(speeches)):\n",
    "    speeches_list.append(speeches[speech].text)"
   ]
  },
  {
   "cell_type": "code",
   "execution_count": 15,
   "id": "bc73898c",
   "metadata": {},
   "outputs": [],
   "source": [
    "# scrape links \n",
    "links = driver.find_elements(By.XPATH, '//td/p/a | //td[@width=\"33%\"]/p/a')\n",
    "links_list = []\n",
    "for link in links:\n",
    "    links_list.append(link.get_attribute('href'))"
   ]
  },
  {
   "cell_type": "code",
   "execution_count": 17,
   "id": "ac218d7b",
   "metadata": {},
   "outputs": [],
   "source": [
    "# store data in to a dataframe\n",
    "data = list(zip(speeches_list, links_list))\n",
    "columns = ['Speech', 'Link']\n",
    "df2 = pd.DataFrame(data, columns=columns)"
   ]
  },
  {
   "cell_type": "code",
   "execution_count": 20,
   "id": "68267312",
   "metadata": {},
   "outputs": [],
   "source": [
    "# clean df2 by dropping the statements and spanish version\n",
    "df2 = df2.drop([0,1,2,86], axis=0)"
   ]
  },
  {
   "cell_type": "code",
   "execution_count": 21,
   "id": "2b705a42",
   "metadata": {},
   "outputs": [],
   "source": [
    "df = pd.concat([df1, df2], axis=0)"
   ]
  },
  {
   "cell_type": "code",
   "execution_count": 22,
   "id": "1621c253",
   "metadata": {},
   "outputs": [],
   "source": [
    "df.to_excel('UNFCC COP 17 Links.xlsx')"
   ]
  },
  {
   "cell_type": "code",
   "execution_count": 23,
   "id": "808a5a18",
   "metadata": {},
   "outputs": [],
   "source": [
    "# set directory to save the pdfs\n",
    "import os\n",
    "os.chdir(\"C:/Users/Wei'En/Documents/MSE Text Analytics/UNFCC COP17 PDF/\")"
   ]
  },
  {
   "cell_type": "code",
   "execution_count": 24,
   "id": "e93d345b",
   "metadata": {},
   "outputs": [],
   "source": [
    "# download pdfs\n",
    "import urllib3\n",
    "urllib3.disable_warnings()\n",
    "\n",
    "for link in df['Link']:\n",
    "    filename = link.split(\"/\")[-1]\n",
    "    with urllib3.PoolManager() as http:\n",
    "        r = http.request('GET', link)\n",
    "        with open(filename, 'wb') as fout:\n",
    "            fout.write(r.data)"
   ]
  },
  {
   "cell_type": "code",
   "execution_count": 25,
   "id": "cd36431a",
   "metadata": {},
   "outputs": [],
   "source": [
    "# import libraries to convert pdfs to text\n",
    "import io\n",
    "from io import StringIO\n",
    "from pdfminer.pdfinterp import PDFResourceManager, PDFPageInterpreter\n",
    "from pdfminer.converter import TextConverter\n",
    "from pdfminer.layout import LAParams\n",
    "from pdfminer.pdfpage import PDFPage\n",
    "import os\n",
    "import sys, getopt"
   ]
  },
  {
   "cell_type": "code",
   "execution_count": 26,
   "id": "425a1d8d",
   "metadata": {},
   "outputs": [],
   "source": [
    "#converts pdf, returns its text content as a string\n",
    "def convert(fname, pages=None):\n",
    "    if not pages:\n",
    "        pagenums = set()\n",
    "    else:\n",
    "        pagenums = set(pages)\n",
    "\n",
    "    output = io.StringIO()\n",
    "    manager = PDFResourceManager()\n",
    "    converter = TextConverter(manager, output, laparams=LAParams())\n",
    "    interpreter = PDFPageInterpreter(manager, converter)\n",
    "\n",
    "    infile = open(fname, 'rb')\n",
    "    for page in PDFPage.get_pages(infile, pagenums):\n",
    "        interpreter.process_page(page)\n",
    "    infile.close()\n",
    "    converter.close()\n",
    "    text = output.getvalue()\n",
    "    output.close\n",
    "    return text \n",
    "\n",
    "#converts all pdfs in directory pdfDir, saves all resulting txt files to txtdir\n",
    "def convertMultiple(pdfDir, txtDir):\n",
    "    if pdfDir == \"\": pdfDir = os.getcwd() + \"\\\\\" #if no pdfDir passed in \n",
    "    for pdf in os.listdir(pdfDir): #iterate through pdfs in pdf directory\n",
    "        fileExtension = pdf.split(\".\")[-1]\n",
    "        if fileExtension == \"pdf\" or fileExtension == \"PDF\":\n",
    "            pdfFilename = pdfDir + pdf \n",
    "            text = convert(pdfFilename) #get string of text content of pdf\n",
    "            textFilename = txtDir + pdf + \".txt\"\n",
    "            textFile = open(textFilename, \"w\", encoding=\"utf-8\") #make text file\n",
    "            textFile.write(text) #write text to text file"
   ]
  },
  {
   "cell_type": "code",
   "execution_count": 27,
   "id": "a49f228a",
   "metadata": {},
   "outputs": [],
   "source": [
    "pdfDir = \"C:/Users/Wei'En/Documents/MSE Text Analytics/UNFCC COP17 PDF/\"\n",
    "txtDir = \"C:/Users/Wei'En/Documents/MSE Text Analytics/UNFCC COP17 Text/\"\n",
    "convertMultiple(pdfDir, txtDir)"
   ]
  },
  {
   "cell_type": "code",
   "execution_count": null,
   "id": "f0864d2e",
   "metadata": {},
   "outputs": [],
   "source": []
  },
  {
   "cell_type": "code",
   "execution_count": null,
   "id": "052bfb98",
   "metadata": {},
   "outputs": [],
   "source": []
  }
 ],
 "metadata": {
  "kernelspec": {
   "display_name": "Python 3 (ipykernel)",
   "language": "python",
   "name": "python3"
  },
  "language_info": {
   "codemirror_mode": {
    "name": "ipython",
    "version": 3
   },
   "file_extension": ".py",
   "mimetype": "text/x-python",
   "name": "python",
   "nbconvert_exporter": "python",
   "pygments_lexer": "ipython3",
   "version": "3.9.7"
  }
 },
 "nbformat": 4,
 "nbformat_minor": 5
}
